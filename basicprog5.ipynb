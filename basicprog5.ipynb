{
 "cells": [
  {
   "cell_type": "code",
   "execution_count": 2,
   "metadata": {},
   "outputs": [
    {
     "name": "stdout",
     "output_type": "stream",
     "text": [
      "enter the no of values that you would like to find lcm2\n",
      "15\n",
      "20\n",
      "lcm of given numbers is 60\n"
     ]
    }
   ],
   "source": [
    "# 1.program to find lcm of given numbers\n",
    "l = []\n",
    "n = int(input(\"enter the no of values that you would like to find lcm\"))\n",
    "i = 0\n",
    "while i < n:\n",
    "    \n",
    "    a = int(input())\n",
    "    l.append(a)\n",
    "    i = i + 1\n",
    "    \n",
    "\n",
    "highest = max(l)\n",
    "\n",
    "while True:\n",
    "    c=0\n",
    "    for j in l:\n",
    "        if(highest%j==0):\n",
    "            c=c+1\n",
    "    if(c==len(l)):\n",
    "        break\n",
    "    else:\n",
    "        highest+=1\n",
    "print(\"lcm of given numbers is\",highest)\n",
    "        \n",
    "        "
   ]
  },
  {
   "cell_type": "code",
   "execution_count": 1,
   "metadata": {},
   "outputs": [
    {
     "name": "stdout",
     "output_type": "stream",
     "text": [
      "enter the no of values that you would like to find hcf2\n",
      "24\n",
      "36\n",
      "hcf of given numbers is: 12\n"
     ]
    }
   ],
   "source": [
    "# 2.program to find hcf of given numbers\n",
    "l = []\n",
    "n = int(input(\"enter the no of values that you would like to find hcf\"))\n",
    "i = 0\n",
    "while i < n:\n",
    "    \n",
    "    a = int(input())\n",
    "    l.append(a)\n",
    "    i = i + 1\n",
    "    \n",
    "\n",
    "lowest = min(l)\n",
    "\n",
    "while True:\n",
    "    c = 0\n",
    "    for j in l:\n",
    "        if j % lowest == 0:\n",
    "            c = c + 1\n",
    "    if c == len(l):\n",
    "        break\n",
    "    else:\n",
    "        lowest = lowest - 1\n",
    "print(\"hcf of given numbers is:\",lowest)\n",
    "    \n"
   ]
  },
  {
   "cell_type": "code",
   "execution_count": 6,
   "metadata": {},
   "outputs": [
    {
     "name": "stdout",
     "output_type": "stream",
     "text": [
      "enter a decimal number to convert into binary34\n",
      "100010enter decimal number to convert into Octal568\n",
      "1070enter a number to convert into hexadecimal2545\n",
      "9F1"
     ]
    }
   ],
   "source": [
    "# 3.program to convert decimal to binary,Octal and hexadecimal\n",
    "# decimal to binary\n",
    "num = int(input(\"enter a decimal number to convert into binary\"))\n",
    "a=[]\n",
    "if num < 0:\n",
    "    print(\"please enter positive number\")\n",
    "    \n",
    "elif num == 1:\n",
    "    print(1)\n",
    "    \n",
    "else:\n",
    "    while num > 0:\n",
    "        rem = num % 2\n",
    "        a.append(rem)\n",
    "        num = num // 2\n",
    "a.reverse()\n",
    "for i in a:\n",
    "    print(i,end='')\n",
    "    \n",
    "# decimal to Octal\n",
    "num2 = int(input(\"enter decimal number to convert into Octal\"))\n",
    "b=[]\n",
    "if num2 < 0:\n",
    "    print(\"please enter positive number\")\n",
    "elif num2 > 0 and num2 < 8:\n",
    "    print(8)\n",
    "\n",
    "else:\n",
    "    while num2 > 0:\n",
    "        rem = num2 % 8\n",
    "        b.append(rem)\n",
    "        num2 = num2 // 8\n",
    "b.reverse()\n",
    "for i in b:\n",
    "    print(i,end = '')\n",
    "    \n",
    "# decimal to hexadecimal\n",
    "num3 = int(input(\"enter a number to convert into hexadecimal\"))\n",
    "c = []\n",
    "if num3 <= 1:\n",
    "    print(num3)\n",
    "else:\n",
    "    while num3 > 0:\n",
    "        rem = num3 % 16\n",
    "        if rem < 10:\n",
    "            c.append(rem)\n",
    "        elif rem == 10:\n",
    "            c.append('A')\n",
    "        elif rem == 11:\n",
    "            c.append('B')\n",
    "        elif rem == 12:\n",
    "            c.append('C')\n",
    "        elif rem == 13:\n",
    "            c.append('D')\n",
    "        elif rem == 14:\n",
    "            c.append('E')\n",
    "        elif rem == 15:\n",
    "            c.append('F')\n",
    "        num3 = num3 // 16\n",
    "c.reverse()\n",
    "for i in c:\n",
    "    print(i,end='')\n",
    "    \n"
   ]
  },
  {
   "cell_type": "code",
   "execution_count": 7,
   "metadata": {},
   "outputs": [
    {
     "name": "stdout",
     "output_type": "stream",
     "text": [
      "enter a character&\n",
      "the ascii value of & is : 38\n"
     ]
    }
   ],
   "source": [
    "# 4.python program to find ascii value of a character\n",
    "ch = input(\"enter a character\")\n",
    "if len(ch) == 1:\n",
    "    print(\"the ascii value of\",ch,\"is :\",ord(ch))\n",
    "    \n",
    "else:\n",
    "    print(\"invalid input, please enter only character.....\")"
   ]
  },
  {
   "cell_type": "code",
   "execution_count": 12,
   "metadata": {},
   "outputs": [
    {
     "name": "stdout",
     "output_type": "stream",
     "text": [
      "enter first number50\n",
      "enter second number10\n",
      "enter your option 1.add,2.subtract,3.multiply,4.divide4\n",
      "50 / 10 = 5.0\n"
     ]
    }
   ],
   "source": [
    "# 5.python program to make a simple calculator\n",
    "num1 = int(input(\"enter first number\"))\n",
    "num2 = int(input(\"enter second number\"))\n",
    "option = int(input(\"enter your option 1.add,2.subtract,3.multiply,4.divide\"))\n",
    "if option == 1:\n",
    "    print(num1,\"+\",num2,\"=\",num1 + num2)\n",
    "elif option == 2:\n",
    "    print(num1,\"-\",num2,\"=\",num1 - num2)\n",
    "elif option == 3:\n",
    "    print(num1,\"*\",num2,\"=\",num1 * num2)\n",
    "elif option == 4:\n",
    "    print(num1,\"/\",num2,\"=\",num1 / num2)\n",
    "    \n",
    "else:\n",
    "    print(\"Invalid option........\")\n",
    "    "
   ]
  },
  {
   "cell_type": "code",
   "execution_count": null,
   "metadata": {},
   "outputs": [],
   "source": []
  }
 ],
 "metadata": {
  "kernelspec": {
   "display_name": "Python 3",
   "language": "python",
   "name": "python3"
  },
  "language_info": {
   "codemirror_mode": {
    "name": "ipython",
    "version": 3
   },
   "file_extension": ".py",
   "mimetype": "text/x-python",
   "name": "python",
   "nbconvert_exporter": "python",
   "pygments_lexer": "ipython3",
   "version": "3.7.6"
  }
 },
 "nbformat": 4,
 "nbformat_minor": 4
}
