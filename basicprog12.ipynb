{
 "cells": [
  {
   "cell_type": "code",
   "execution_count": 3,
   "metadata": {},
   "outputs": [
    {
     "name": "stdout",
     "output_type": "stream",
     "text": [
      "10\n",
      "5\n",
      "6\n"
     ]
    }
   ],
   "source": [
    "# 1.program to extract unique values dictionary values\n",
    "dict = {\"a\":5,\"b\":6,\"c\":10,\"d\":5}\n",
    "a = set(dict.values())\n",
    "for i in a:\n",
    "    print(i)"
   ]
  },
  {
   "cell_type": "code",
   "execution_count": 20,
   "metadata": {
    "scrolled": true
   },
   "outputs": [
    {
     "name": "stdout",
     "output_type": "stream",
     "text": [
      "enter size of dictionary3\n",
      "1\n",
      "3\n",
      "2\n",
      "4\n",
      "5\n",
      "6\n",
      "{1: 3, 2: 4, 5: 6}\n",
      "21\n"
     ]
    }
   ],
   "source": [
    "n = int(input(\"enter size of dictionary\"))\n",
    "\n",
    "d={}\n",
    "for i in range(n):\n",
    "    k=int(input())\n",
    "    d[k]=int(input())\n",
    "print(d)\n",
    "sum = 0\n",
    "for i in d:\n",
    "    sum = sum + i + d[i]\n",
    "    \n",
    "print(sum)"
   ]
  },
  {
   "cell_type": "code",
   "execution_count": 26,
   "metadata": {},
   "outputs": [
    {
     "name": "stdout",
     "output_type": "stream",
     "text": [
      "{6: 9, 5: 4, 3: 6, 1: 4, 4: 5, 7: 1}\n"
     ]
    }
   ],
   "source": [
    "# program to merging two dictionaries\n",
    "dic1 = {1:4,4:5,7:1}\n",
    "dic2 = {6:9,5:4,3:6}\n",
    "dic2.update(dic1)\n",
    "print(dic2)\n",
    "\n"
   ]
  },
  {
   "cell_type": "code",
   "execution_count": 2,
   "metadata": {},
   "outputs": [
    {
     "name": "stdout",
     "output_type": "stream",
     "text": [
      "3\n",
      "enter key5\n",
      "enter value8\n",
      "enter key2\n",
      "enter value9\n",
      "enter key4\n",
      "enter value5\n",
      "{5: 8, 2: 9, 4: 5}\n"
     ]
    }
   ],
   "source": [
    "# 4.program to convert key-value list to flat dictionary\n",
    "size = int(input())\n",
    "keys = []\n",
    "values = []\n",
    "x = {}\n",
    "for i in range(size):\n",
    "    keys.append(int(input(\"enter key\")))\n",
    "    values.append(int(input(\"enter value\")))\n",
    "    x[keys[i]] = values[i]\n",
    "\n",
    "print(x)"
   ]
  },
  {
   "cell_type": "markdown",
   "metadata": {},
   "source": [
    "print(a)"
   ]
  },
  {
   "cell_type": "code",
   "execution_count": 7,
   "metadata": {},
   "outputs": [
    {
     "name": "stdout",
     "output_type": "stream",
     "text": [
      "after inserting resultant dictionary: OrderedDict([('1', 'abhi'), ('2', 'ashok'), ('3', 'sasi'), ('4', 'yash')])\n"
     ]
    }
   ],
   "source": [
    "# 5.program to insertion at the begining at ordered dict\n",
    "from collections import OrderedDict\n",
    "orddic = OrderedDict([('2','ashok'),('3','sasi'),('4','yash')])\n",
    "\n",
    "# inserting at begining of ordereddict\n",
    "orddic.update({'1':'abhi'})\n",
    "orddic.move_to_end('1', last = False)\n",
    "\n",
    "print(\"after inserting resultant dictionary:\",orddic)\n",
    "  "
   ]
  },
  {
   "cell_type": "code",
   "execution_count": 13,
   "metadata": {},
   "outputs": [
    {
     "name": "stdout",
     "output_type": "stream",
     "text": [
      "characters are in order...\n"
     ]
    }
   ],
   "source": [
    "# 6.program to find order of a character in a string using OrderedDict\n",
    "\n",
    "from collections import OrderedDict\n",
    "st = 'i am a student'\n",
    "subst = 'amu'\n",
    "dict = OrderedDict.fromkeys(st)\n",
    "ptrlen = 0\n",
    "\n",
    "for i in dict.keys():\n",
    "    if i == subst[ptrlen]:\n",
    "        ptrlen  = ptrlen + 1\n",
    "        \n",
    "        if ptrlen == len(subst):\n",
    "            print(\"characters are in order...\")\n",
    "            break\n",
    "else:\n",
    "    print(\"characters are not in order....\")"
   ]
  },
  {
   "cell_type": "code",
   "execution_count": 1,
   "metadata": {},
   "outputs": [
    {
     "name": "stdout",
     "output_type": "stream",
     "text": [
      "3\n",
      "enter key:4\n",
      "enter value:7\n",
      "enter key:2\n",
      "enter value:8\n",
      "enter key:5\n",
      "enter value:6\n",
      "{2: 8, 4: 7, 5: 6}\n"
     ]
    }
   ],
   "source": [
    "# 7.program to sort dictionaries by key or values\n",
    "my_dic = {}\n",
    "size = int(input())\n",
    "for i in range(size):\n",
    "    k = int(input(\"enter key:\"))\n",
    "    my_dic[k] = int(input(\"enter value:\"))\n",
    "\n",
    "my=sorted(my_dic.keys())\n",
    "sorted={}\n",
    "for i in my:\n",
    "    sorted[i]=my_dic[i]\n",
    "print(sorted)\n"
   ]
  },
  {
   "cell_type": "markdown",
   "metadata": {},
   "source": [
    "my_dic = {}\n",
    "size = int(input())\n",
    "for i in range(size):\n",
    "    k = int(input(\"enter key:\"))\n",
    "    my_dic[k] = int(input(\"enter value:\"))\n",
    "my=sorted(my_dic.keys())\n",
    "sorted={}\n",
    "for i in my:\n",
    "    sorted[i]=my_dic[i]\n",
    "print(sorted)\n",
    "\n"
   ]
  },
  {
   "cell_type": "code",
   "execution_count": 6,
   "metadata": {
    "scrolled": true
   },
   "outputs": [
    {
     "ename": "IndexError",
     "evalue": "string index out of range",
     "output_type": "error",
     "traceback": [
      "\u001b[1;31m---------------------------------------------------------------------------\u001b[0m",
      "\u001b[1;31mIndexError\u001b[0m                                Traceback (most recent call last)",
      "\u001b[1;32m<ipython-input-6-aa7f41b4eeb3>\u001b[0m in \u001b[0;36m<module>\u001b[1;34m\u001b[0m\n\u001b[0;32m      9\u001b[0m \u001b[1;32mfor\u001b[0m \u001b[0mkey\u001b[0m\u001b[1;33m,\u001b[0m\u001b[0mvalue\u001b[0m \u001b[1;32min\u001b[0m \u001b[0mdict\u001b[0m\u001b[1;33m.\u001b[0m\u001b[0mitems\u001b[0m\u001b[1;33m(\u001b[0m\u001b[1;33m)\u001b[0m\u001b[1;33m:\u001b[0m\u001b[1;33m\u001b[0m\u001b[1;33m\u001b[0m\u001b[0m\n\u001b[0;32m     10\u001b[0m \u001b[1;33m\u001b[0m\u001b[0m\n\u001b[1;32m---> 11\u001b[1;33m     \u001b[1;32mif\u001b[0m \u001b[1;33m(\u001b[0m\u001b[0mkey\u001b[0m \u001b[1;33m==\u001b[0m \u001b[0mpattern\u001b[0m\u001b[1;33m[\u001b[0m\u001b[0mptrlen\u001b[0m\u001b[1;33m]\u001b[0m\u001b[1;33m)\u001b[0m\u001b[1;33m:\u001b[0m\u001b[1;33m\u001b[0m\u001b[1;33m\u001b[0m\u001b[0m\n\u001b[0m\u001b[0;32m     12\u001b[0m         \u001b[0mptrlen\u001b[0m \u001b[1;33m=\u001b[0m \u001b[0mptrlen\u001b[0m \u001b[1;33m+\u001b[0m \u001b[1;36m1\u001b[0m\u001b[1;33m\u001b[0m\u001b[1;33m\u001b[0m\u001b[0m\n\u001b[0;32m     13\u001b[0m \u001b[1;33m\u001b[0m\u001b[0m\n",
      "\u001b[1;31mIndexError\u001b[0m: string index out of range"
     ]
    }
   ],
   "source": []
  },
  {
   "cell_type": "code",
   "execution_count": 15,
   "metadata": {},
   "outputs": [
    {
     "name": "stdout",
     "output_type": "stream",
     "text": [
      "hbshd\n"
     ]
    }
   ],
   "source": []
  },
  {
   "cell_type": "code",
   "execution_count": null,
   "metadata": {},
   "outputs": [],
   "source": []
  }
 ],
 "metadata": {
  "kernelspec": {
   "display_name": "Python 3",
   "language": "python",
   "name": "python3"
  },
  "language_info": {
   "codemirror_mode": {
    "name": "ipython",
    "version": 3
   },
   "file_extension": ".py",
   "mimetype": "text/x-python",
   "name": "python",
   "nbconvert_exporter": "python",
   "pygments_lexer": "ipython3",
   "version": "3.7.6"
  }
 },
 "nbformat": 4,
 "nbformat_minor": 4
}
