{
 "cells": [
  {
   "cell_type": "code",
   "execution_count": 7,
   "metadata": {},
   "outputs": [
    {
     "name": "stdout",
     "output_type": "stream",
     "text": [
      "enter a number10\n",
      "factorial of 10 is 3628800\n"
     ]
    }
   ],
   "source": [
    "# 1. program to print factorial of a number\n",
    "\n",
    "num = int(input(\"enter a number\"))\n",
    "fact = 1\n",
    "for i in range(1,num + 1):\n",
    "    fact = fact * i\n",
    "print(\"factorial of\",num,\"is\",fact)"
   ]
  },
  {
   "cell_type": "code",
   "execution_count": 12,
   "metadata": {},
   "outputs": [
    {
     "name": "stdout",
     "output_type": "stream",
     "text": [
      "enter a number12\n",
      "enter a upper value13\n",
      "12  *  1 =  12\n",
      "12  *  2 =  24\n",
      "12  *  3 =  36\n",
      "12  *  4 =  48\n",
      "12  *  5 =  60\n",
      "12  *  6 =  72\n",
      "12  *  7 =  84\n",
      "12  *  8 =  96\n",
      "12  *  9 =  108\n",
      "12  *  10 =  120\n",
      "12  *  11 =  132\n",
      "12  *  12 =  144\n",
      "12  *  13 =  156\n"
     ]
    }
   ],
   "source": [
    "# 2. program to display the multiplication table\n",
    "\n",
    "num = int(input(\"enter a number\"))\n",
    "upper = int(input(\"enter a upper value\"))\n",
    "for i in range(1,upper + 1):\n",
    "    print(num,\" * \",i, \"= \", num * i)"
   ]
  },
  {
   "cell_type": "code",
   "execution_count": 23,
   "metadata": {},
   "outputs": [
    {
     "name": "stdout",
     "output_type": "stream",
     "text": [
      "enter Nth term10\n",
      "0\n",
      "1\n",
      "1\n",
      "2\n",
      "3\n",
      "5\n",
      "8\n",
      "13\n",
      "21\n",
      "34\n"
     ]
    }
   ],
   "source": [
    "# 3. program to print fibonacci sequence\n",
    "\n",
    "num = int(input(\"enter Nth term\"))\n",
    "i = 0\n",
    "n1 = 0\n",
    "n2 = 1\n",
    "if num < 1:\n",
    "    print(\"enter a positive number\")\n",
    "elif num == 1:\n",
    "    print(\"fibonacci sequence :\",1)\n",
    "else:\n",
    "    while i < num:\n",
    "        print(n1)\n",
    "        n3 = n1 + n2\n",
    "        n1 = n2\n",
    "        n2 = n3\n",
    "        i = i + 1"
   ]
  },
  {
   "cell_type": "code",
   "execution_count": 8,
   "metadata": {},
   "outputs": [
    {
     "name": "stdout",
     "output_type": "stream",
     "text": [
      "enter a number to check whether armstrong or not9474\n",
      "9474 is a armstrong number\n"
     ]
    }
   ],
   "source": [
    "# 4.program to check armstrong number\n",
    "\n",
    "num = int(input(\"enter a number to check whether armstrong or not\"))\n",
    "num2 = num\n",
    "rem = 0\n",
    "i = 0\n",
    "n = len(str(num))\n",
    "while i < n:\n",
    "    rem = rem + pow((num % 10),n) # each digit will rise to the power of no of digits in a number \n",
    "    quo = num // 10                    # gets added\n",
    "    num = quo\n",
    "    i = i + 1\n",
    "    \n",
    "if num2 == rem:\n",
    "    print(num2,\"is a armstrong number\")\n",
    "else:\n",
    "    print(num2,\"is not a armstrong number\")\n",
    "    \n",
    "\n",
    "    "
   ]
  },
  {
   "cell_type": "code",
   "execution_count": 17,
   "metadata": {},
   "outputs": [
    {
     "name": "stdout",
     "output_type": "stream",
     "text": [
      "enter lower range:100\n",
      "enter upper range:5000\n",
      "153\n",
      "370\n",
      "371\n",
      "407\n",
      "1634\n"
     ]
    }
   ],
   "source": [
    "#5.program to print armstrong number in an interval\n",
    "\n",
    "lower = int(input(\"enter lower range:\"))\n",
    "upper = int(input(\"enter upper range:\"))\n",
    "for i in range(lower,upper + 1):\n",
    "    n = len(str(i)) # n is no of digits in a number\n",
    "    num = i\n",
    "    rem = 0\n",
    "    while num > 0:\n",
    "        rem = rem + pow((num % 10),n)\n",
    "        quo = num // 10\n",
    "        num = quo\n",
    "        \n",
    "    if i == rem:\n",
    "        print(i)\n"
   ]
  },
  {
   "cell_type": "code",
   "execution_count": 22,
   "metadata": {},
   "outputs": [
    {
     "name": "stdout",
     "output_type": "stream",
     "text": [
      "enter a number51\n",
      "enter a number100\n",
      "3775\n"
     ]
    },
    {
     "data": {
      "text/plain": [
       "'while num > 0:\\n    sum = sum + num\\n    num = num - 1\\n    \\nprint(sum)\\n\\n# using formulae\\n\\nsum = (num / 2) * num + 1 # sum of n natural numbers = n/2*(n+1)'"
      ]
     },
     "execution_count": 22,
     "metadata": {},
     "output_type": "execute_result"
    }
   ],
   "source": [
    "# 6.program to find sum of natural numbers\n",
    "\n",
    "lower = int(input(\"enter a number\"))\n",
    "upper = int(input(\"enter a number\"))\n",
    "sum = lower\n",
    "for i in range(lower + 1,upper + 1):\n",
    "    sum = sum + i\n",
    "    \n",
    "print(sum)\n",
    "\n",
    "# using while loop\n",
    "\"\"\"while upper > lower - 1:\n",
    "    sum = sum + upper\n",
    "    upper = upper - 1\n",
    "    \n",
    "print(sum)\n",
    "\n",
    "\"\"\"\n"
   ]
  },
  {
   "cell_type": "code",
   "execution_count": null,
   "metadata": {},
   "outputs": [],
   "source": []
  },
  {
   "cell_type": "code",
   "execution_count": null,
   "metadata": {},
   "outputs": [],
   "source": []
  }
 ],
 "metadata": {
  "kernelspec": {
   "display_name": "Python 3",
   "language": "python",
   "name": "python3"
  },
  "language_info": {
   "codemirror_mode": {
    "name": "ipython",
    "version": 3
   },
   "file_extension": ".py",
   "mimetype": "text/x-python",
   "name": "python",
   "nbconvert_exporter": "python",
   "pygments_lexer": "ipython3",
   "version": "3.7.6"
  }
 },
 "nbformat": 4,
 "nbformat_minor": 4
}
