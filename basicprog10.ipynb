{
 "cells": [
  {
   "cell_type": "code",
   "execution_count": 7,
   "metadata": {},
   "outputs": [
    {
     "name": "stdout",
     "output_type": "stream",
     "text": [
      "enter size of list5\n",
      "2\n",
      "10\n",
      "8\n",
      "9\n",
      "6\n",
      "sum of elements in a list is : 35\n"
     ]
    }
   ],
   "source": [
    "# 1.program to find sum of elements in a list\n",
    "l=[]\n",
    "size = int(input(\"enter size of list\"))\n",
    "for i in range(size):\n",
    "    l.append(int(input()))\n",
    "    \n",
    "sum = 0\n",
    "for i in l:\n",
    "    sum = sum + i\n",
    "    \n",
    "print(\"sum of elements in a list is :\",sum)"
   ]
  },
  {
   "cell_type": "code",
   "execution_count": 2,
   "metadata": {},
   "outputs": [
    {
     "name": "stdout",
     "output_type": "stream",
     "text": [
      "enter size of list5\n",
      "10\n",
      "5\n",
      "2\n",
      "6\n",
      "4\n",
      "product of elements in a list is : 2400\n"
     ]
    }
   ],
   "source": [
    "# program to multiply all elements in a list\n",
    "l=[]\n",
    "size = int(input(\"enter size of list\"))\n",
    "for i in range(size):\n",
    "    l.append(int(input()))\n",
    "    \n",
    "prod = 1\n",
    "for i in l:\n",
    "    prod = prod * i\n",
    "    \n",
    "print(\"product of elements in a list is :\",prod)"
   ]
  },
  {
   "cell_type": "markdown",
   "metadata": {},
   "source": []
  },
  {
   "cell_type": "code",
   "execution_count": 4,
   "metadata": {},
   "outputs": [
    {
     "name": "stdout",
     "output_type": "stream",
     "text": [
      "enter size of list5\n",
      "34\n",
      "56\n",
      "76\n",
      "23\n",
      "18\n",
      "smallest number in a list is : 18\n"
     ]
    }
   ],
   "source": [
    "# 3.program to find smallest number in a list\n",
    "\n",
    "l=[]\n",
    "size = int(input(\"enter size of list\"))\n",
    "for i in range(size):\n",
    "    l.append(int(input()))\n",
    "l.sort()\n",
    "print(\"smallest number in a list is :\",l[0])"
   ]
  },
  {
   "cell_type": "code",
   "execution_count": 6,
   "metadata": {},
   "outputs": [
    {
     "name": "stdout",
     "output_type": "stream",
     "text": [
      "enter size of list5\n",
      "34\n",
      "54\n",
      "67\n",
      "78\n",
      "90\n",
      "largest in a list is : 90\n"
     ]
    }
   ],
   "source": [
    "# 4. program to largest element in a list\n",
    "a=[]\n",
    "size = int(input(\"enter size of list\"))\n",
    "for i in range(size):\n",
    "    a.append(int(input()))\n",
    "a.sort()\n",
    "print(\"largest in a list is :\",a[size - 1])\n"
   ]
  },
  {
   "cell_type": "code",
   "execution_count": 1,
   "metadata": {},
   "outputs": [
    {
     "name": "stdout",
     "output_type": "stream",
     "text": [
      "enter size of list5\n",
      "23\n",
      "67\n",
      "54\n",
      "89\n",
      "90\n",
      "second largest element is  89\n"
     ]
    }
   ],
   "source": [
    "# program to find second largest number in a list\n",
    "l1=[]\n",
    "size = int(input(\"enter size of list\"))\n",
    "for i in range(size):\n",
    "    l1.append(int(input()))\n",
    "l1.sort()\n",
    "print(\"second largest element is \",l1[size - 2])\n"
   ]
  },
  {
   "cell_type": "code",
   "execution_count": 4,
   "metadata": {},
   "outputs": [
    {
     "name": "stdout",
     "output_type": "stream",
     "text": [
      "enter size of list5\n",
      "1\n",
      "2\n",
      "3\n",
      "4\n",
      "5\n",
      "enter how many largest numbers you need :3\n",
      "5\n",
      "4\n",
      "3\n"
     ]
    }
   ],
   "source": [
    "# 6.program to find n largest elements from list\n",
    "l=[]\n",
    "size = int(input(\"enter size of list\"))\n",
    "for i in range(size):\n",
    "    l.append(int(input()))\n",
    "l.sort()\n",
    "n = int(input(\"enter how many largest numbers you need :\"))\n",
    "if n < size:\n",
    "    for i in range(1,n + 1):\n",
    "        print(l[-i])"
   ]
  },
  {
   "cell_type": "code",
   "execution_count": 8,
   "metadata": {},
   "outputs": [
    {
     "name": "stdout",
     "output_type": "stream",
     "text": [
      "enter the size of list :12\n"
     ]
    },
    {
     "data": {
      "text/plain": [
       "[0, 2, 4, 6, 8, 10, 12]"
      ]
     },
     "execution_count": 8,
     "metadata": {},
     "output_type": "execute_result"
    }
   ],
   "source": [
    "# 7.python program to print even numbers in a list\n",
    "n = int(input(\"enter the size of list :\"))\n",
    "\n",
    "[i for i in range(n+1) if i % 2 == 0]"
   ]
  },
  {
   "cell_type": "code",
   "execution_count": 9,
   "metadata": {},
   "outputs": [
    {
     "name": "stdout",
     "output_type": "stream",
     "text": [
      "enter the size of list :15\n"
     ]
    },
    {
     "data": {
      "text/plain": [
       "[1, 3, 5, 7, 9, 11, 13, 15]"
      ]
     },
     "execution_count": 9,
     "metadata": {},
     "output_type": "execute_result"
    }
   ],
   "source": [
    "# 8.python program to print odd numbers in a list\n",
    "n = int(input(\"enter the size of list :\"))\n",
    "\n",
    "[i for i in range(n+1) if i % 2 == 1]"
   ]
  },
  {
   "cell_type": "code",
   "execution_count": 11,
   "metadata": {},
   "outputs": [
    {
     "name": "stdout",
     "output_type": "stream",
     "text": [
      "[[1, 3, 5], [54, 345, 35], 4, 5, 'dafs', 'True']\n"
     ]
    }
   ],
   "source": [
    "# 9.program to remove empty list from a list\n",
    "x = [[1,3,5,],[54,345,35,],[],4,5,'dafs',[],'True']\n",
    "for i in x:\n",
    "    if type(i) == list:\n",
    "        if len(i) == 0:\n",
    "            x.remove(i)\n",
    "            \n",
    "print(x)"
   ]
  },
  {
   "cell_type": "code",
   "execution_count": 13,
   "metadata": {},
   "outputs": [
    {
     "name": "stdout",
     "output_type": "stream",
     "text": [
      "l1: [1, 3, 45, [2, 'ashok', 22], 'wert', 232]\n",
      "after cloning or copying l1 to l2 : [1, 3, 45, [2, 'ashok', 22], 'wert', 232]\n"
     ]
    }
   ],
   "source": [
    "# 10.program to cloning or copying a list\n",
    "l1 = [1,3,45,[2,'ashok',22],'wert',232]\n",
    "l2 = []\n",
    "l2.extend(l1)\n",
    "print('l1:',l1)\n",
    "print(\"after cloning or copying l1 to l2 :\",l2)"
   ]
  },
  {
   "cell_type": "code",
   "execution_count": 18,
   "metadata": {},
   "outputs": [
    {
     "name": "stdout",
     "output_type": "stream",
     "text": [
      "2\n"
     ]
    },
    {
     "data": {
      "text/plain": [
       "3"
      ]
     },
     "execution_count": 18,
     "metadata": {},
     "output_type": "execute_result"
    }
   ],
   "source": [
    "# 11.python program to count occurrences of an element in a list\n",
    "\n",
    "l2 = [1,2,3,2,4,5,4,2,6,6,7,6,5,1,4,9]\n",
    "print(l2.count(5))\n",
    "l2.count(4)"
   ]
  },
  {
   "cell_type": "code",
   "execution_count": null,
   "metadata": {},
   "outputs": [],
   "source": []
  }
 ],
 "metadata": {
  "kernelspec": {
   "display_name": "Python 3",
   "language": "python",
   "name": "python3"
  },
  "language_info": {
   "codemirror_mode": {
    "name": "ipython",
    "version": 3
   },
   "file_extension": ".py",
   "mimetype": "text/x-python",
   "name": "python",
   "nbconvert_exporter": "python",
   "pygments_lexer": "ipython3",
   "version": "3.7.6"
  }
 },
 "nbformat": 4,
 "nbformat_minor": 4
}
