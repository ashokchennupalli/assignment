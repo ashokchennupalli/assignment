{
 "cells": [
  {
   "cell_type": "code",
   "execution_count": 14,
   "metadata": {},
   "outputs": [
    {
     "name": "stdout",
     "output_type": "stream",
     "text": [
      "enter no of rows in first matrix3\n",
      "enter no of col in firsst matrix3\n",
      "enter no of rows in second matrix3\n",
      "enter no of col in second matrix3\n",
      "enter first matrix value1\n",
      "enter first matrix value2\n",
      "enter first matrix value3\n",
      "enter first matrix value4\n",
      "enter first matrix value5\n",
      "enter first matrix value6\n",
      "enter first matrix value7\n",
      "enter first matrix value8\n",
      "enter first matrix value9\n",
      "enter second matrix value9\n",
      "enter second matrix value8\n",
      "enter second matrix value7\n",
      "enter second matrix value6\n",
      "enter second matrix value5\n",
      "enter second matrix value4\n",
      "enter second matrix value3\n",
      "enter second matrix value2\n",
      "enter second matrix value1\n",
      "[[10, 10, 10], [10, 10, 10], [10, 10, 10]]\n"
     ]
    }
   ],
   "source": [
    "n=int(input(\"enter no of rows in first matrix\"))\n",
    "m=int(input(\"enter no of col in firsst matrix\"))\n",
    "a=int(input(\"enter no of rows in second matrix\"))\n",
    "b=int(input(\"enter no of col in second matrix\"))\n",
    "l1=[]\n",
    "l2=[]\n",
    "l3=[]\n",
    "if(n==a and m==b):\n",
    "    for i in range(0,n):\n",
    "        c=[]\n",
    "        for j in range(0,m):\n",
    "            c.append(int(input(\"enter first matrix value\")))\n",
    "        l1.append(c)\n",
    "    for i in range(0,n):\n",
    "        d=[]\n",
    "        for j in range(0,m):\n",
    "            d.append(int(input(\"enter second matrix value\")))\n",
    "        l2.append(d)\n",
    "    for i in range(0,n):\n",
    "        x=[]\n",
    "        for j in range(0,m):\n",
    "            k=l1[i][j]+l2[i][j]\n",
    "            x.append(k)\n",
    "        l3.append(x)\n",
    "print(l3)"
   ]
  },
  {
   "cell_type": "markdown",
   "metadata": {},
   "source": [
    "\n"
   ]
  },
  {
   "cell_type": "code",
   "execution_count": 28,
   "metadata": {},
   "outputs": [
    {
     "name": "stdout",
     "output_type": "stream",
     "text": [
      "enter no of rows in first matrix2\n",
      "enter no of col in firsst matrix3\n",
      "enter no of rows in second matrix3\n",
      "enter no of col in second matrix2\n",
      "enter first matrix value1\n",
      "enter first matrix value2\n",
      "enter first matrix value3\n",
      "enter first matrix value4\n",
      "enter first matrix value5\n",
      "enter first matrix value6\n",
      "enter second matrix value7\n",
      "enter second matrix value2\n",
      "enter second matrix value8\n",
      "enter second matrix value5\n",
      "enter second matrix value9\n",
      "enter second matrix value4\n",
      "[[1, 2, 3], [4, 5, 6]] [[7, 2], [8, 5], [9, 4]]\n",
      "multiplication of matrices is: [[50, 24], [122, 57]]\n"
     ]
    }
   ],
   "source": [
    "n=int(input(\"enter no of rows in first matrix\"))\n",
    "m=int(input(\"enter no of col in firsst matrix\"))\n",
    "a=int(input(\"enter no of rows in second matrix\"))\n",
    "b=int(input(\"enter no of col in second matrix\"))\n",
    "l1=[]\n",
    "l2=[]\n",
    "l3=[]\n",
    "s = 0\n",
    "if(m == a):\n",
    "    for i in range(0,n):\n",
    "        c=[]\n",
    "        for j in range(0,m):\n",
    "            c.append(int(input(\"enter first matrix value\")))\n",
    "        l1.append(c)\n",
    "    for i in range(0,a):\n",
    "        d=[]\n",
    "        for j in range(0,b):\n",
    "            d.append(int(input(\"enter second matrix value\")))\n",
    "        l2.append(d)\n",
    "    print(l1,l2)\n",
    "    for i in range(0,n): \n",
    "        t=[]\n",
    "\n",
    "        for k in range(0,b):\n",
    "            s = 0\n",
    "            for j in range(0,m):\n",
    "                s = s + l1[i][j] * l2[j][k]\n",
    "                \n",
    "            t.append(s)\n",
    "        l3.append(t)\n",
    "print(\"multiplication of matrices is:\",l3)\n"
   ]
  },
  {
   "cell_type": "code",
   "execution_count": 30,
   "metadata": {},
   "outputs": [
    {
     "name": "stdout",
     "output_type": "stream",
     "text": [
      "enter no of rows in first matrix3\n",
      "enter no of col in firsst matrix3\n",
      "enter first matrix value2\n",
      "enter first matrix value4\n",
      "enter first matrix value6\n",
      "enter first matrix value7\n",
      "enter first matrix value5\n",
      "enter first matrix value4\n",
      "enter first matrix value6\n",
      "enter first matrix value7\n",
      "enter first matrix value3\n",
      "[[2, 4, 6], [7, 5, 4], [6, 7, 3]]\n",
      "[[2, 7, 6], [4, 5, 7], [6, 4, 3]]\n"
     ]
    }
   ],
   "source": [
    "# 3.program to find transpose of a matrix\n",
    "\n",
    "m=int(input(\"enter no of rows in first matrix\"))\n",
    "n=int(input(\"enter no of col in firsst matrix\"))\n",
    "l1 = []\n",
    "l2 = []\n",
    "\n",
    "for i in range(0,m):\n",
    "        c=[]\n",
    "        for j in range(0,n):\n",
    "            c.append(int(input(\"enter first matrix value\")))\n",
    "        l1.append(c)\n",
    "print(l1)\n",
    "\n",
    "for i in range(0,n):\n",
    "    l2 = []\n",
    "    for j in range(0,m):\n",
    "        l2.append(l1[j][i]) \n",
    "    l3.append(l2)    \n",
    "print(l3)"
   ]
  },
  {
   "cell_type": "code",
   "execution_count": 1,
   "metadata": {},
   "outputs": [
    {
     "name": "stdout",
     "output_type": "stream",
     "text": [
      "Enter no of words :5\n",
      "enter wordashok\n",
      "enter wordlame\n",
      "enter wordtyui\n",
      "enter wordgrty\n",
      "enter wordcdfe\n",
      "['ashok', 'cdfe', 'grty', 'lame', 'tyui']\n"
     ]
    }
   ],
   "source": [
    "# 4.program to sort words in alphabetic order\n",
    "size = int(input(\"Enter no of words :\"))\n",
    "l= []\n",
    "for i in range(size):\n",
    "    word = input(\"enter word\")\n",
    "    if word.isalpha() == True:\n",
    "        l.append(word) \n",
    "    else:\n",
    "        print(\"enter only string or word.......\")\n",
    "        break\n",
    "    \n",
    "l.sort()\n",
    "print(l)\n"
   ]
  },
  {
   "cell_type": "code",
   "execution_count": 2,
   "metadata": {},
   "outputs": [
    {
     "name": "stdout",
     "output_type": "stream",
     "text": [
      "enter a paragraph to remove punctuations from it....i am not '  dwd'<>>>what?{loedfg}\"ashik\" \n",
      "i am not   dwdwhatloedfgashik \n"
     ]
    }
   ],
   "source": [
    "# program to remove punctuations from  a string\n",
    "punctuations = '''!()-[]{};:'\"\\,<>./?@#$%^&*_~'''\n",
    "string = input(\"enter a paragraph to remove punctuations from it....\")\n",
    "newstr = ''\n",
    "for i in string:\n",
    "    if i not in punctuations:\n",
    "        newstr = newstr + i\n",
    "        \n",
    "print(newstr)"
   ]
  },
  {
   "cell_type": "code",
   "execution_count": null,
   "metadata": {},
   "outputs": [],
   "source": []
  }
 ],
 "metadata": {
  "kernelspec": {
   "display_name": "Python 3",
   "language": "python",
   "name": "python3"
  },
  "language_info": {
   "codemirror_mode": {
    "name": "ipython",
    "version": 3
   },
   "file_extension": ".py",
   "mimetype": "text/x-python",
   "name": "python",
   "nbconvert_exporter": "python",
   "pygments_lexer": "ipython3",
   "version": "3.7.6"
  }
 },
 "nbformat": 4,
 "nbformat_minor": 4
}
