{
 "cells": [
  {
   "cell_type": "code",
   "execution_count": 10,
   "metadata": {},
   "outputs": [
    {
     "name": "stdout",
     "output_type": "stream",
     "text": [
      "Enter a number to find whether it is disarium no or not518\n",
      "518 is a disarium number\n"
     ]
    }
   ],
   "source": [
    "# 1.program to find whether a number is disarium number or not\n",
    "num = int(input(\"Enter a number to find whether it is disarium no or not\"))\n",
    "num2 = num\n",
    "nd = len(str(num))\n",
    "rem = 0\n",
    "for i in range(nd,0,-1):\n",
    "    rem = rem + pow((num%10),i) # % gives remainder\n",
    "    quo = num // 10 # result is quotient\n",
    "    num = quo\n",
    "    \n",
    "if num2 == rem:\n",
    "    print(num2,\"is a disarium number\")\n",
    "else:\n",
    "    print(num2,\"is not a disarium number\")\n",
    "    \n",
    "    "
   ]
  },
  {
   "cell_type": "code",
   "execution_count": 13,
   "metadata": {},
   "outputs": [
    {
     "name": "stdout",
     "output_type": "stream",
     "text": [
      "1\n",
      "2\n",
      "3\n",
      "4\n",
      "5\n",
      "6\n",
      "7\n",
      "8\n",
      "9\n",
      "89\n"
     ]
    }
   ],
   "source": [
    "# program to generate disarium numbers between 1 to 100\n",
    "\n",
    "for i in range(1,101):\n",
    "    nd = len(str(i))\n",
    "    rem = 0\n",
    "    num = i\n",
    "    for j in range(nd,0,-1):\n",
    "        rem = rem + pow((i%10),j)\n",
    "        quo = i // 10\n",
    "        i = quo\n",
    "    if num == rem:\n",
    "        print(num)\n",
    "    \n",
    "        "
   ]
  },
  {
   "cell_type": "code",
   "execution_count": 15,
   "metadata": {},
   "outputs": [
    {
     "name": "stdout",
     "output_type": "stream",
     "text": [
      "enter a number to check happy no or not103\n",
      "103  is a happy number\n"
     ]
    }
   ],
   "source": [
    "# 3.program to check if the  given no is happy number\n",
    "\n",
    "def sumofsqu(n):\n",
    "    rem = 0\n",
    "\n",
    "    while n > 0:\n",
    "        rem = rem + pow((n % 10),2)\n",
    "        quo = n // 10\n",
    "        n = quo\n",
    "        \n",
    "    if rem == 1:\n",
    "        print(num,\" is a happy number\")\n",
    "    elif len(str(rem)) == 1:\n",
    "        print(num,\" is not happy number\")\n",
    "    \n",
    "    else:\n",
    "        sumofsqu(rem) \n",
    "\n",
    "\n",
    "\n",
    "num = int(input(\"enter a number to check happy no or not\"))\n",
    "sumofsqu(num)\n",
    "\n",
    "    \n",
    "        "
   ]
  },
  {
   "cell_type": "code",
   "execution_count": 21,
   "metadata": {},
   "outputs": [
    {
     "name": "stdout",
     "output_type": "stream",
     "text": [
      "1\n",
      "7\n",
      "10\n",
      "13\n",
      "19\n",
      "23\n",
      "28\n",
      "31\n",
      "32\n",
      "44\n",
      "49\n",
      "68\n",
      "70\n",
      "79\n",
      "82\n",
      "86\n",
      "91\n",
      "94\n",
      "97\n",
      "100\n"
     ]
    }
   ],
   "source": [
    "# 4.program to print happy numbers in range of 1-100\n",
    "def sumofsqu(n):\n",
    "    k=n\n",
    "    rem = 0\n",
    "\n",
    "    while n > 0:\n",
    "        rem = rem + pow((n % 10),2)\n",
    "        quo = n // 10\n",
    "        n = quo\n",
    "        \n",
    "    if rem == 1:\n",
    "        print(i)\n",
    "    elif len(str(rem)) == 1:\n",
    "        pass\n",
    "    \n",
    "    else:\n",
    "        sumofsqu(rem) \n",
    "\n",
    "\n",
    "\n",
    "for i in range(1,101):\n",
    "    sumofsqu(i)\n"
   ]
  },
  {
   "cell_type": "code",
   "execution_count": 29,
   "metadata": {},
   "outputs": [
    {
     "name": "stdout",
     "output_type": "stream",
     "text": [
      "20\n",
      "0\n",
      "2\n",
      "20 is a harshad number\n"
     ]
    }
   ],
   "source": [
    "# 5.program to check harshad number\n",
    "\n",
    "num = int(input())\n",
    "if num % 9 == 0:\n",
    "    print(num,\"is a harshad number\")\n",
    "else:\n",
    "    sum = 0\n",
    "    temp = num\n",
    "    while num > 0:\n",
    "        sum = sum + (num % 10)\n",
    "        num = num // 10\n",
    "        print(sum)\n",
    "    if temp % sum == 0:\n",
    "        print(temp,\"is a harshad number\")\n",
    "    else:\n",
    "        print(temp,\"is not a harshad number\")"
   ]
  },
  {
   "cell_type": "code",
   "execution_count": 33,
   "metadata": {},
   "outputs": [
    {
     "name": "stdout",
     "output_type": "stream",
     "text": [
      "6\n",
      "12\n",
      "20\n",
      "30\n",
      "42\n",
      "56\n",
      "72\n",
      "90\n"
     ]
    }
   ],
   "source": [
    "# 5. program to print pronic numbers between 1 to 100\n",
    "for i in range(1,101):\n",
    "    for j in range(1,i//2):\n",
    "        if(j*(j+1)==i):\n",
    "            print(i)\n",
    "            break"
   ]
  },
  {
   "cell_type": "code",
   "execution_count": null,
   "metadata": {},
   "outputs": [],
   "source": []
  }
 ],
 "metadata": {
  "kernelspec": {
   "display_name": "Python 3",
   "language": "python",
   "name": "python3"
  },
  "language_info": {
   "codemirror_mode": {
    "name": "ipython",
    "version": 3
   },
   "file_extension": ".py",
   "mimetype": "text/x-python",
   "name": "python",
   "nbconvert_exporter": "python",
   "pygments_lexer": "ipython3",
   "version": "3.7.6"
  }
 },
 "nbformat": 4,
 "nbformat_minor": 4
}
