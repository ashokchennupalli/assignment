{
 "cells": [
  {
   "cell_type": "code",
   "execution_count": 3,
   "metadata": {},
   "outputs": [
    {
     "name": "stdout",
     "output_type": "stream",
     "text": [
      "enter no of values to be enter into list5\n",
      "enter element10\n",
      "enter element20\n",
      "enter element10\n",
      "enter element60\n",
      "enter element10\n",
      "sum of array is : 110\n"
     ]
    }
   ],
   "source": [
    "# 1. program to find sum of elements in an array\n",
    "l = []\n",
    "sum = 0\n",
    "num = int(input(\"enter no of values to be enter into list : \"))\n",
    "i = 0\n",
    "while i < num:\n",
    "    n = int(input(\"enter element\"))\n",
    "    l.append(n)\n",
    "    i += 1\n",
    "    \n",
    "for i in range(0,len(l)):\n",
    "    sum = sum + l[i]\n",
    "    \n",
    "print(\"sum of array is :\",sum)\n",
    "    "
   ]
  },
  {
   "cell_type": "code",
   "execution_count": 8,
   "metadata": {},
   "outputs": [
    {
     "name": "stdout",
     "output_type": "stream",
     "text": [
      "enter no of values to be enter into list : 5\n",
      "enter element1\n",
      "enter element9\n",
      "enter element25\n",
      "enter element10\n",
      "enter element56\n",
      "largest element in an array is : 56\n"
     ]
    }
   ],
   "source": [
    "# 2.program to find largest element in an array\n",
    "a = []\n",
    "num = int(input(\"enter no of values to be enter into list : \"))\n",
    "i = 0\n",
    "while i < num:\n",
    "    n = int(input(\"enter element\"))\n",
    "    a.append(n)\n",
    "    i += 1\n",
    "a.sort()\n",
    "print(\"largest element in an array is :\",a[len(a) - 1])\n"
   ]
  },
  {
   "cell_type": "code",
   "execution_count": 17,
   "metadata": {},
   "outputs": [
    {
     "name": "stdout",
     "output_type": "stream",
     "text": [
      "enter no of values to be enter into list : 5\n",
      "enter element9\n",
      "enter element25\n",
      "enter element10\n",
      "enter element56\n",
      "enter element60\n",
      "list before rotation : [9, 25, 10, 56, 60]\n",
      "enter the length by which elements to be rotated2\n",
      "array after rotation:  [10, 56, 60, 9, 25]\n"
     ]
    }
   ],
   "source": [
    "# 3. program to rotate array\n",
    "b = []\n",
    "x = []\n",
    "num = int(input(\"enter no of values to be enter into list : \"))\n",
    "i = 0\n",
    "while i < num:\n",
    "    n = int(input(\"enter element\"))\n",
    "    b.append(n)\n",
    "    x.append(n)\n",
    "    i += 1\n",
    "print(\"list before rotation :\",b)\n",
    "    \n",
    "n = int(input(\"enter the length by which elements to be rotated\"))\n",
    "\n",
    "for i in range(len(b)):\n",
    "    b[i - n] = x[i]\n",
    "    \n",
    "print(\"array after rotation: \",b)"
   ]
  },
  {
   "cell_type": "code",
   "execution_count": 20,
   "metadata": {},
   "outputs": [
    {
     "name": "stdout",
     "output_type": "stream",
     "text": [
      "enter no of values to be enter into list : 6\n",
      "enter element5\n",
      "enter element6\n",
      "enter element36\n",
      "enter element52\n",
      "enter element78\n",
      "enter element9\n",
      "enter the no of elements to be splitted from list in first part 3\n",
      "array after splitting and add first part to end [52, 78, 9, 5, 6, 36]\n"
     ]
    }
   ],
   "source": [
    "# 4.program to split the array and add first part to end\n",
    "x = []\n",
    "num = int(input(\"enter no of values to be enter into list : \"))\n",
    "i = 0\n",
    "while i < num:\n",
    "    n = int(input(\"enter element\"))\n",
    "    x.append(n)\n",
    "    i += 1\n",
    "n = int(input(\"enter the no of elements to be splitted from list in first part \"))\n",
    "\n",
    "for i in range(0,n):\n",
    "    a = x[0]\n",
    "    for j in range(0,len(x) - 1):\n",
    "        x[j] = x[j + 1]\n",
    "    x[len(x)-1]= a\n",
    "    \n",
    "print(\"array after splitting and add first part to end\",x)"
   ]
  },
  {
   "cell_type": "code",
   "execution_count": 36,
   "metadata": {},
   "outputs": [
    {
     "name": "stdout",
     "output_type": "stream",
     "text": [
      "enter no of values to be enter into list : 6\n",
      "enter element34\n",
      "enter element67\n",
      "enter element12\n",
      "enter element23\n",
      "enter element89\n",
      "enter element67\n",
      "given list is not a monotonic list\n"
     ]
    }
   ],
   "source": [
    "l = []\n",
    "num = int(input(\"enter no of values to be enter into list : \"))\n",
    "i = 0\n",
    "while i < num:\n",
    "    n = int(input(\"enter element\"))\n",
    "    l.append(n)\n",
    "    i += 1\n",
    "c = 0\n",
    "d = 0\n",
    "for i in range(len(l) - 1):\n",
    "    if l[i] < l[i + 1]:\n",
    "        c = c + 1\n",
    "        \n",
    "    if l[i] > l[i + 1]:\n",
    "        d = d + 1\n",
    "\n",
    "\n",
    "if c == len(l) - 1:\n",
    "    print(\"given list is a monotonic increasing list\")\n",
    "elif d == len(l) - 1:\n",
    "    print(\"given list is a monotonic decreasing list\")\n",
    "else:\n",
    "    print(\"given list is not a monotonic list\")\n",
    "    \n",
    "        \n"
   ]
  },
  {
   "cell_type": "code",
   "execution_count": null,
   "metadata": {},
   "outputs": [],
   "source": []
  },
  {
   "cell_type": "code",
   "execution_count": null,
   "metadata": {},
   "outputs": [],
   "source": []
  }
 ],
 "metadata": {
  "kernelspec": {
   "display_name": "Python 3",
   "language": "python",
   "name": "python3"
  },
  "language_info": {
   "codemirror_mode": {
    "name": "ipython",
    "version": 3
   },
   "file_extension": ".py",
   "mimetype": "text/x-python",
   "name": "python",
   "nbconvert_exporter": "python",
   "pygments_lexer": "ipython3",
   "version": "3.7.6"
  }
 },
 "nbformat": 4,
 "nbformat_minor": 4
}
