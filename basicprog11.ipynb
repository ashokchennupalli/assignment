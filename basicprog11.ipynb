{
 "cells": [
  {
   "cell_type": "code",
   "execution_count": 3,
   "metadata": {},
   "outputs": [
    {
     "name": "stdout",
     "output_type": "stream",
     "text": [
      "ashok sasi asddff fsfindsus nibdf dfdsfdsf\n",
      "5\n",
      "asddff\n",
      "fsfindsus\n",
      "dfdsfdsf\n"
     ]
    }
   ],
   "source": [
    "# 1.program to find words greater than given length k\n",
    "size = input()\n",
    "k = int(input(\"enter length k go obtain words greater than size k: \"))\n",
    "\n",
    "words =[i for i in size.split(' ') ]\n",
    "for i in words:\n",
    "    if len(i) > k:\n",
    "        print(i)\n"
   ]
  },
  {
   "cell_type": "code",
   "execution_count": 12,
   "metadata": {},
   "outputs": [
    {
     "name": "stdout",
     "output_type": "stream",
     "text": [
      "asff gjkf\n",
      "3\n"
     ]
    },
    {
     "data": {
      "text/plain": [
       "'asf gjkf'"
      ]
     },
     "execution_count": 12,
     "metadata": {},
     "output_type": "execute_result"
    }
   ],
   "source": [
    "# 2.program to remove ith character from a string\n",
    "st =input()\n",
    "i = int(input())\n",
    "st.replace(st[i-1],'',1)"
   ]
  },
  {
   "cell_type": "code",
   "execution_count": 22,
   "metadata": {},
   "outputs": [
    {
     "name": "stdout",
     "output_type": "stream",
     "text": [
      "ghg ufhu wjkw\n",
      "['ghg', 'ufhu', 'wjkw']\n",
      "ghg ufhu wjkw\n"
     ]
    }
   ],
   "source": [
    "# 3.program to split and join a string\n",
    "st = input()\n",
    "l = st.split(' ')\n",
    "print(l)\n",
    "st2 = ''\n",
    "st = st2.join(st)\n",
    "print(st)"
   ]
  },
  {
   "cell_type": "code",
   "execution_count": 26,
   "metadata": {},
   "outputs": [
    {
     "name": "stdout",
     "output_type": "stream",
     "text": [
      "100190\n",
      "string is not binary\n"
     ]
    }
   ],
   "source": [
    "# 4.program to check given string is binary or not\n",
    "s = input()\n",
    "c = 0\n",
    "for i in s:\n",
    "    if i == '0' or i == '1':\n",
    "        c += 1\n",
    "        \n",
    "if c == len(s):\n",
    "    print(\"string is binary :\")\n",
    "else:\n",
    "    print(\"string is not binary\")"
   ]
  },
  {
   "cell_type": "code",
   "execution_count": 41,
   "metadata": {},
   "outputs": [
    {
     "name": "stdout",
     "output_type": "stream",
     "text": [
      "ashok jsfbh sasi\n",
      "sasi dfdbh jfkdjf\n",
      "['ashok', 'jsfbh', 'dfdbh', 'jfkdjf']\n"
     ]
    }
   ],
   "source": [
    "# 5. program to find uncommon words between two strings\n",
    "st1 = input()\n",
    "l1 = st1.split(' ')\n",
    "st2 = input()\n",
    "l2 = st2.split(' ')\n",
    "s = []\n",
    "for i in l1:\n",
    "    if i not in l2:\n",
    "        s.append(i)\n",
    "        \n",
    "for j in l2:\n",
    "    if j not in l1:\n",
    "        s.append(j)\n",
    "        \n",
    "print(s)\n",
    "    \n"
   ]
  },
  {
   "cell_type": "code",
   "execution_count": 50,
   "metadata": {
    "scrolled": true
   },
   "outputs": [
    {
     "name": "stdout",
     "output_type": "stream",
     "text": [
      "Enter a string:ahdgfryfkhyrd\n",
      "f h y r d "
     ]
    }
   ],
   "source": [
    "# 6.program to find duplicate characters in a string\n",
    "s = input(\"Enter a string:\")\n",
    "a = []\n",
    "for i in s:\n",
    "    if s.count(i) >= 2:\n",
    "        a.append(i)\n",
    "    \n",
    "a = set(a)\n",
    "for i in a:\n",
    "    print(i,end =' ')"
   ]
  },
  {
   "cell_type": "code",
   "execution_count": 17,
   "metadata": {},
   "outputs": [
    {
     "name": "stdout",
     "output_type": "stream",
     "text": [
      "enter a string :asdhf#%b9\n",
      "string contains special characters.....\n"
     ]
    }
   ],
   "source": [
    "# 7.program to check if a string contains special character\n",
    "\n",
    "special_characters = \"!@#$%^&*()-+?_=,<>/\"\n",
    "st = input(\"enter a string :\")\n",
    "if any (i in special_characters for i in st):\n",
    "    print(\"string contains special characters.....\")\n",
    "    \n",
    "else:\n",
    "    print(\"string does not contain special characters....\")"
   ]
  },
  {
   "cell_type": "code",
   "execution_count": null,
   "metadata": {},
   "outputs": [],
   "source": []
  },
  {
   "cell_type": "code",
   "execution_count": null,
   "metadata": {},
   "outputs": [],
   "source": []
  }
 ],
 "metadata": {
  "kernelspec": {
   "display_name": "Python 3",
   "language": "python",
   "name": "python3"
  },
  "language_info": {
   "codemirror_mode": {
    "name": "ipython",
    "version": 3
   },
   "file_extension": ".py",
   "mimetype": "text/x-python",
   "name": "python",
   "nbconvert_exporter": "python",
   "pygments_lexer": "ipython3",
   "version": "3.7.6"
  }
 },
 "nbformat": 4,
 "nbformat_minor": 4
}
