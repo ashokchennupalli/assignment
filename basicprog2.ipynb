{
 "cells": [
  {
   "cell_type": "code",
   "execution_count": 1,
   "metadata": {},
   "outputs": [
    {
     "name": "stdout",
     "output_type": "stream",
     "text": [
      "enter kilometers to be converted into miles7\n",
      "7 km = 4.3498 miles\n"
     ]
    }
   ],
   "source": [
    "# program to convert kilometers to miles\n",
    "\n",
    "km = int(input(\"enter kilometers to be converted into miles\"))\n",
    "miles = km * 0.6214 # 1 km = 0.6214 miles\n",
    "print(\"{} km = {} miles\".format(km,miles))"
   ]
  },
  {
   "cell_type": "code",
   "execution_count": 4,
   "metadata": {},
   "outputs": [
    {
     "name": "stdout",
     "output_type": "stream",
     "text": [
      "enter temperature in Celsius45\n",
      "45.0° Celsius = 113.0° Fahrenheit\n"
     ]
    }
   ],
   "source": [
    "# program to convert Celsius to Fahrenheit\n",
    "\n",
    "Celsius = float(input(\"enter temperature in Celsius\"))\n",
    "Fahrenheit = (Celsius * 1.8) + 32 # formula to convert Celsius to Fahrenheit\n",
    "print(\"{}° Celsius = {}° Fahrenheit\".format(Celsius,Fahrenheit))"
   ]
  },
  {
   "cell_type": "code",
   "execution_count": 7,
   "metadata": {},
   "outputs": [
    {
     "name": "stdout",
     "output_type": "stream",
     "text": [
      "enter year(four digit No):2021\n",
      "enter month(two digit No)03\n",
      "     March 2021\n",
      "Mo Tu We Th Fr Sa Su\n",
      " 1  2  3  4  5  6  7\n",
      " 8  9 10 11 12 13 14\n",
      "15 16 17 18 19 20 21\n",
      "22 23 24 25 26 27 28\n",
      "29 30 31\n",
      "\n"
     ]
    }
   ],
   "source": [
    "# program to display calendar\n",
    "\n",
    "# importing calendar module\n",
    "import calendar\n",
    "\n",
    "year = int(input(\"enter year(four digit No):\"))\n",
    "month = int(input(\"enter month(two digit No)\"))\n",
    "\n",
    "# displaying calendar\n",
    "print(calendar.month(year,month))"
   ]
  },
  {
   "cell_type": "code",
   "execution_count": 11,
   "metadata": {},
   "outputs": [
    {
     "name": "stdout",
     "output_type": "stream",
     "text": [
      "enter coeff a :1\n",
      "enter coeff b :-6\n",
      "enter constant c:-16\n",
      "The solutions are (8+0j) and (-2+0j)\n"
     ]
    }
   ],
   "source": [
    "# program to solve quadratic equation\n",
    "\n",
    "# importing complex math module\n",
    "import cmath\n",
    "\n",
    "# imagine the equation as ax²+bx+c we will take the inputs of coefficients a,b and constant c\n",
    "\n",
    "a = int(input(\"enter coeff a :\"))\n",
    "b = int(input(\"enter coeff b :\"))\n",
    "c = int(input(\"enter constant c:\"))\n",
    "\n",
    "# formula to calculate roots is -b±sqrt(b²-4ac)/2a\n",
    "\n",
    "d = (b ** 2) - (4*a*c)\n",
    "root1 = (-b+cmath.sqrt(d))/(2*a)\n",
    "root2 = (-b-cmath.sqrt(d))/(2*a)\n",
    "print(\"The solutions are {} and {}\".format(root1,root2))"
   ]
  },
  {
   "cell_type": "code",
   "execution_count": 12,
   "metadata": {},
   "outputs": [
    {
     "name": "stdout",
     "output_type": "stream",
     "text": [
      "enter first number23\n",
      "enter second number45\n",
      "after swapping num1=45 and num2 = 23\n"
     ]
    }
   ],
   "source": [
    "# program to swap two vaiables without temp variable\n",
    "\n",
    "num1 = int(input(\"enter first number\"))\n",
    "num2 = int(input(\"enter second number\"))\n",
    "sum = num1 + num2\n",
    "num1 = sum - num1\n",
    "num2 = sum - num2\n",
    "print(\"after swapping num1={} and num2 = {}\".format(num1,num2))"
   ]
  },
  {
   "cell_type": "code",
   "execution_count": null,
   "metadata": {},
   "outputs": [],
   "source": []
  }
 ],
 "metadata": {
  "kernelspec": {
   "display_name": "Python 3",
   "language": "python",
   "name": "python3"
  },
  "language_info": {
   "codemirror_mode": {
    "name": "ipython",
    "version": 3
   },
   "file_extension": ".py",
   "mimetype": "text/x-python",
   "name": "python",
   "nbconvert_exporter": "python",
   "pygments_lexer": "ipython3",
   "version": "3.7.6"
  }
 },
 "nbformat": 4,
 "nbformat_minor": 4
}
