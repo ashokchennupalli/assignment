{
 "cells": [
  {
   "cell_type": "code",
   "execution_count": 1,
   "metadata": {},
   "outputs": [
    {
     "name": "stdout",
     "output_type": "stream",
     "text": [
      "hello python\n"
     ]
    }
   ],
   "source": [
    "# program to print hello python\n",
    "\n",
    "print(\"hello python\")"
   ]
  },
  {
   "cell_type": "code",
   "execution_count": 2,
   "metadata": {},
   "outputs": [
    {
     "name": "stdout",
     "output_type": "stream",
     "text": [
      "enter first value21\n",
      "enter second value12\n",
      "addition of two numbers is : 33\n",
      "division of two numbers is : 1.75\n",
      "multiplication of two numbers : 252\n",
      "subtraction of two numbers is : 9\n"
     ]
    }
   ],
   "source": [
    "# arithmetical operations such as addition and subtraction\n",
    "\n",
    "a = int(input(\"enter first value\"))\n",
    "b = int (input(\"enter second value\"))\n",
    "addition = a + b\n",
    "division = a / b\n",
    "multiplication = a * b\n",
    "subtraction = a - b\n",
    "print(\"addition of two numbers is :\",addition)\n",
    "print(\"division of two numbers is :\",division)\n",
    "print(\"multiplication of two numbers :\",multiplication)\n",
    "print(\"subtraction of two numbers is :\",subtraction)"
   ]
  },
  {
   "cell_type": "code",
   "execution_count": 3,
   "metadata": {},
   "outputs": [
    {
     "name": "stdout",
     "output_type": "stream",
     "text": [
      "enter base of triangle10\n",
      "enter height of a triangle5\n",
      "area of triangle is 25.0\n"
     ]
    }
   ],
   "source": [
    "# python program to find area of triangle\n",
    "\n",
    "base = int(input(\"enter base of triangle\"))\n",
    "height = int(input(\"enter height of a triangle\"))\n",
    "area = (base * height)/2\n",
    "print(\"area of triangle is {}\".format(area))"
   ]
  },
  {
   "cell_type": "code",
   "execution_count": 4,
   "metadata": {},
   "outputs": [
    {
     "name": "stdout",
     "output_type": "stream",
     "text": [
      "enter variable 1 :23\n",
      "enter variable 2 :68\n",
      "after swapping var1 =68 and var2=23\n"
     ]
    }
   ],
   "source": [
    "# python program to swap two variables\n",
    "\n",
    "var1 = int(input(\"enter variable 1 :\"))\n",
    "var2 = int(input(\"enter variable 2 :\"))\n",
    "var3 = var1\n",
    "var1 = var2 \n",
    "var2 = var3\n",
    "print(\"after swapping var1 ={} and var2={}\".format(var1,var2))\n"
   ]
  },
  {
   "cell_type": "code",
   "execution_count": 6,
   "metadata": {},
   "outputs": [
    {
     "name": "stdout",
     "output_type": "stream",
     "text": [
      "enter value a:12\n",
      "enter value b:90\n",
      "83\n"
     ]
    }
   ],
   "source": [
    "# python program to generate a random number\n",
    "\n",
    "import random\n",
    "a =int(input(\"enter value a:\"))\n",
    "b= int(input(\"enter value b:\"))\n",
    "print(random.randint(a,b))"
   ]
  },
  {
   "cell_type": "code",
   "execution_count": null,
   "metadata": {},
   "outputs": [],
   "source": []
  }
 ],
 "metadata": {
  "kernelspec": {
   "display_name": "Python 3",
   "language": "python",
   "name": "python3"
  },
  "language_info": {
   "codemirror_mode": {
    "name": "ipython",
    "version": 3
   },
   "file_extension": ".py",
   "mimetype": "text/x-python",
   "name": "python",
   "nbconvert_exporter": "python",
   "pygments_lexer": "ipython3",
   "version": "3.7.6"
  }
 },
 "nbformat": 4,
 "nbformat_minor": 4
}
