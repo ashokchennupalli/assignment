{
 "cells": [
  {
   "cell_type": "code",
   "execution_count": 5,
   "metadata": {},
   "outputs": [
    {
     "name": "stdout",
     "output_type": "stream",
     "text": [
      "6\n",
      "0\n",
      "1\n",
      "1\n",
      "2\n",
      "3\n",
      "5\n"
     ]
    }
   ],
   "source": [
    "def fibonacci(n):\n",
    "    if n <= 1:\n",
    "        return n\n",
    "    else:\n",
    "        return (fibonacci(n - 1) + fibonacci(n - 2))\n",
    "                \n",
    "num = int(input())\n",
    "for i in range(0,num):\n",
    "    print(fibonacci(i))"
   ]
  },
  {
   "cell_type": "code",
   "execution_count": 9,
   "metadata": {},
   "outputs": [
    {
     "name": "stdout",
     "output_type": "stream",
     "text": [
      "enter a number :10\n",
      "the factorial of 10 is: 3628800\n"
     ]
    }
   ],
   "source": [
    "# 2.factorial of a number using recursion\n",
    "def fact(n):\n",
    "    if n <= 1:\n",
    "        return 1\n",
    "    else:\n",
    "        return n * fact(n-1)\n",
    "\n",
    "num = int(input(\"enter a number :\"))\n",
    "if num < 1:\n",
    "    print(\"please enter a positive number\")\n",
    "    \n",
    "elif num == 1:\n",
    "    print(\"the factorial of number is 1\")\n",
    "else:\n",
    "    print(\"the factorial of\",num,\"is:\",fact(num))"
   ]
  },
  {
   "cell_type": "code",
   "execution_count": 16,
   "metadata": {},
   "outputs": [
    {
     "name": "stdout",
     "output_type": "stream",
     "text": [
      "enter your weight in kg :85\n",
      "enter your height in meters :1.8\n",
      "26.23\n",
      "you are considered overweight\n"
     ]
    }
   ],
   "source": [
    "# 3. programm to calculate mass body index\n",
    "weight = float(input(\"enter your weight in kg :\"))\n",
    "height = float(input(\"enter your height in meters :\")) # 1 feet = 0.3048 meters, 1 cm = 1/100 meters\n",
    "BMI = weight / (height * height)\n",
    "print(BMI)\n",
    "if BMI < 18.5:\n",
    "    print(\"you are considered underweight\")\n",
    "    \n",
    "elif BMI >= 18.5 and BMI < 24.9:\n",
    "    print(\"you are considered normal\")\n",
    "    \n",
    "else:\n",
    "    print(\"you are considered overweight\")\n"
   ]
  },
  {
   "cell_type": "code",
   "execution_count": 19,
   "metadata": {},
   "outputs": [
    {
     "name": "stdout",
     "output_type": "stream",
     "text": [
      "enter a number7.5\n",
      "2.0149030205422647\n"
     ]
    }
   ],
   "source": [
    "# 4. program to calculate natural logarithm of any number\n",
    "num = float(input(\"enter a number\"))\n",
    "import math\n",
    "\n",
    "# this function returns log values of a positive numbers\n",
    "print(math.log(num))"
   ]
  },
  {
   "cell_type": "code",
   "execution_count": 21,
   "metadata": {},
   "outputs": [
    {
     "name": "stdout",
     "output_type": "stream",
     "text": [
      "enter the value of n 10\n",
      "cube sum is : 3025\n"
     ]
    }
   ],
   "source": [
    "# 5.program to print cube sum of first n natural numbers\n",
    "def cubesum(n):\n",
    "    sum = 0\n",
    "    for i in range(1,n + 1):\n",
    "        sum = sum + pow(i,3)\n",
    "        \n",
    "    return sum\n",
    "\n",
    "num = int(input(\"enter the value of n \"))\n",
    "print(\"cube sum is :\",cubesum(num))"
   ]
  },
  {
   "cell_type": "code",
   "execution_count": null,
   "metadata": {},
   "outputs": [],
   "source": []
  }
 ],
 "metadata": {
  "kernelspec": {
   "display_name": "Python 3",
   "language": "python",
   "name": "python3"
  },
  "language_info": {
   "codemirror_mode": {
    "name": "ipython",
    "version": 3
   },
   "file_extension": ".py",
   "mimetype": "text/x-python",
   "name": "python",
   "nbconvert_exporter": "python",
   "pygments_lexer": "ipython3",
   "version": "3.7.6"
  }
 },
 "nbformat": 4,
 "nbformat_minor": 4
}
